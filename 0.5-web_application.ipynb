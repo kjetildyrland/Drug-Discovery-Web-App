{
 "cells": [
  {
   "cell_type": "markdown",
   "id": "ac209af9",
   "metadata": {},
   "source": [
    "# Predict activation on a protein"
   ]
  },
  {
   "cell_type": "code",
   "execution_count": 1,
   "id": "8bed2682",
   "metadata": {},
   "outputs": [],
   "source": [
    "from fastai.vision.widgets import *\n",
    "from fastai.vision.all import *\n",
    "from pathlib import Path"
   ]
  },
  {
   "cell_type": "code",
   "execution_count": 2,
   "id": "f781112b",
   "metadata": {},
   "outputs": [],
   "source": [
    "%%capture\n",
    "!pip install voila\n",
    "!jupyter serverextension enable --sys-prefix voila"
   ]
  },
  {
   "cell_type": "code",
   "execution_count": 3,
   "id": "c0df15cb",
   "metadata": {},
   "outputs": [],
   "source": [
    "datasets = ['CHEMBL205',  'CHEMBL301',  \n",
    "            'CHEMBL240', 'CHEMBL219', \n",
    "            'CHEMBL244', 'CHEMBL218',\n",
    "           'CHEMBL1978',]"
   ]
  },
  {
   "cell_type": "code",
   "execution_count": 4,
   "id": "0123f586",
   "metadata": {},
   "outputs": [],
   "source": [
    "chembl_to_dataset = {\n",
    "    \n",
    "    'CAII' : 'CHEMBL205',\n",
    "    'CDK2' : 'CHEMBL301',\n",
    "    'HERG' : 'CHEMBL240',\n",
    "    'DRD4' : 'CHEMBL219',\n",
    "    'CogX' : 'CHEMBL244',\n",
    "    'CB1' : 'CHEMBL218',\n",
    "    'CYP_19A1' : 'CHEMBL1978'}"
   ]
  },
  {
   "cell_type": "code",
   "execution_count": 5,
   "id": "fc130025",
   "metadata": {},
   "outputs": [],
   "source": [
    "models_path = Path('models/')\n",
    "btn_upload = widgets.FileUpload()\n",
    "dropdown = widgets.Dropdown(\n",
    "    options=chembl_to_dataset,\n",
    "    value=chembl_to_dataset['CAII'],\n",
    "    description='Protein:',\n",
    "    disabled=False,\n",
    ")\n",
    "out_pl = widgets.Output()\n",
    "lbl_pred = widgets.Label()\n",
    "btn_run = widgets.Button(description='Classify')"
   ]
  },
  {
   "cell_type": "code",
   "execution_count": 6,
   "id": "16a501dc",
   "metadata": {},
   "outputs": [],
   "source": [
    "def on_click_classify(change):\n",
    "    learn_inf = load_learner(models_path/f'{dropdown.value}_cl.pkl')\n",
    "    img = PILImage.create(btn_upload.data[-1])\n",
    "    out_pl.clear_output()\n",
    "    with out_pl: display(img.to_thumb(224,224))\n",
    "    pred,pred_idx,probs = learn_inf.predict(img)\n",
    "    lbl_pred.value = f'Prediction: {pred}; Probability: {probs[pred_idx]:.04f}'\n",
    "\n",
    "btn_run.on_click(on_click_classify)"
   ]
  },
  {
   "cell_type": "code",
   "execution_count": 7,
   "id": "4188659d",
   "metadata": {},
   "outputs": [
    {
     "data": {
      "application/vnd.jupyter.widget-view+json": {
       "model_id": "eedccfaf344e48a186551729446345b6",
       "version_major": 2,
       "version_minor": 0
      },
      "text/plain": [
       "VBox(children=(Label(value='Select your molecule to predict!'), Dropdown(description='Protein:', options={'CAI…"
      ]
     },
     "metadata": {},
     "output_type": "display_data"
    },
    {
     "data": {
      "text/html": [],
      "text/plain": [
       "<IPython.core.display.HTML object>"
      ]
     },
     "metadata": {},
     "output_type": "display_data"
    }
   ],
   "source": [
    "VBox([widgets.Label('Select your molecule to predict!'), dropdown,\n",
    "      btn_upload, btn_run, out_pl, lbl_pred])"
   ]
  },
  {
   "cell_type": "code",
   "execution_count": null,
   "id": "a63db01c",
   "metadata": {},
   "outputs": [],
   "source": []
  },
  {
   "cell_type": "code",
   "execution_count": null,
   "id": "716ada58",
   "metadata": {},
   "outputs": [],
   "source": []
  }
 ],
 "metadata": {
  "kernelspec": {
   "display_name": "Python 3",
   "language": "python",
   "name": "python3"
  },
  "language_info": {
   "codemirror_mode": {
    "name": "ipython",
    "version": 3
   },
   "file_extension": ".py",
   "mimetype": "text/x-python",
   "name": "python",
   "nbconvert_exporter": "python",
   "pygments_lexer": "ipython3",
   "version": "3.6.13"
  }
 },
 "nbformat": 4,
 "nbformat_minor": 5
}
